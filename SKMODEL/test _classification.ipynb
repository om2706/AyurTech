{
 "cells": [
  {
   "cell_type": "code",
   "execution_count": 1,
   "metadata": {},
   "outputs": [
    {
     "name": "stdout",
     "output_type": "stream",
     "text": [
      "WARNING:tensorflow:From c:\\Users\\jeeva\\AppData\\Local\\Programs\\Python\\Python311\\Lib\\site-packages\\keras\\src\\losses.py:2976: The name tf.losses.sparse_softmax_cross_entropy is deprecated. Please use tf.compat.v1.losses.sparse_softmax_cross_entropy instead.\n",
      "\n"
     ]
    }
   ],
   "source": [
    "import tensorflow as tf\n",
    "from tensorflow.keras.models import Sequential\n",
    "from tensorflow.keras.layers import Conv2D, MaxPooling2D, Flatten, Dense, Dropout\n",
    "from tensorflow.keras.preprocessing.image import ImageDataGenerator\n",
    "import tensorboard\n"
   ]
  },
  {
   "cell_type": "code",
   "execution_count": 2,
   "metadata": {},
   "outputs": [],
   "source": [
    "batch_size = 32\n",
    "epochs = 40\n",
    "image_size = (128, 128)  "
   ]
  },
  {
   "cell_type": "code",
   "execution_count": 3,
   "metadata": {},
   "outputs": [],
   "source": [
    "train_datagen = ImageDataGenerator(rescale=1.0/255,shear_range=0.2,zoom_range=0.2,horizontal_flip=True,validation_split=0.2 )"
   ]
  },
  {
   "cell_type": "code",
   "execution_count": 4,
   "metadata": {},
   "outputs": [
    {
     "name": "stdout",
     "output_type": "stream",
     "text": [
      "Found 4765 images belonging to 40 classes.\n"
     ]
    }
   ],
   "source": [
    "train_generator = train_datagen.flow_from_directory('D:/SKMODEL/Medicinal plant dataset',target_size=image_size,batch_size=batch_size, class_mode='categorical',subset='training' )"
   ]
  },
  {
   "cell_type": "code",
   "execution_count": 5,
   "metadata": {},
   "outputs": [],
   "source": [
    "num_classes = 40"
   ]
  },
  {
   "cell_type": "code",
   "execution_count": 6,
   "metadata": {},
   "outputs": [
    {
     "name": "stdout",
     "output_type": "stream",
     "text": [
      "WARNING:tensorflow:From c:\\Users\\jeeva\\AppData\\Local\\Programs\\Python\\Python311\\Lib\\site-packages\\keras\\src\\backend.py:873: The name tf.get_default_graph is deprecated. Please use tf.compat.v1.get_default_graph instead.\n",
      "\n"
     ]
    }
   ],
   "source": [
    "model = Sequential()\n",
    "model.add(Conv2D(32, (3, 3), activation='relu', input_shape=(image_size[0], image_size[1], 3)))\n",
    "model.add(MaxPooling2D(pool_size=(2, 2)))\n",
    "model.add(Conv2D(64, (3, 3), activation='relu'))\n",
    "model.add(MaxPooling2D(pool_size=(2, 2)))\n",
    "model.add(Flatten())\n",
    "model.add(Dense(128, activation='relu'))\n",
    "model.add(Dropout(0.5))\n",
    "model.add(Dense(num_classes, activation='softmax')) "
   ]
  },
  {
   "cell_type": "code",
   "execution_count": 7,
   "metadata": {},
   "outputs": [
    {
     "name": "stdout",
     "output_type": "stream",
     "text": [
      "WARNING:tensorflow:From c:\\Users\\jeeva\\AppData\\Local\\Programs\\Python\\Python311\\Lib\\site-packages\\keras\\src\\optimizers\\__init__.py:309: The name tf.train.Optimizer is deprecated. Please use tf.compat.v1.train.Optimizer instead.\n",
      "\n"
     ]
    }
   ],
   "source": [
    "model.compile(optimizer='adam', loss='categorical_crossentropy', metrics=['accuracy'])"
   ]
  },
  {
   "cell_type": "code",
   "execution_count": 8,
   "metadata": {},
   "outputs": [],
   "source": [
    "#Train\n",
    "logdir='logs'\n",
    "tensorboard_callback = tf.keras.callbacks.TensorBoard(log_dir=logdir)\n"
   ]
  },
  {
   "cell_type": "code",
   "execution_count": 9,
   "metadata": {},
   "outputs": [
    {
     "name": "stdout",
     "output_type": "stream",
     "text": [
      "Found 1180 images belonging to 40 classes.\n"
     ]
    },
    {
     "name": "stdout",
     "output_type": "stream",
     "text": [
      "Epoch 1/40\n",
      "WARNING:tensorflow:From c:\\Users\\jeeva\\AppData\\Local\\Programs\\Python\\Python311\\Lib\\site-packages\\keras\\src\\utils\\tf_utils.py:492: The name tf.ragged.RaggedTensorValue is deprecated. Please use tf.compat.v1.ragged.RaggedTensorValue instead.\n",
      "\n",
      "WARNING:tensorflow:From c:\\Users\\jeeva\\AppData\\Local\\Programs\\Python\\Python311\\Lib\\site-packages\\keras\\src\\engine\\base_layer_utils.py:384: The name tf.executing_eagerly_outside_functions is deprecated. Please use tf.compat.v1.executing_eagerly_outside_functions instead.\n",
      "\n",
      "149/149 [==============================] - 138s 919ms/step - loss: 3.6587 - accuracy: 0.0499 - val_loss: 3.3369 - val_accuracy: 0.1144\n",
      "Epoch 2/40\n",
      "149/149 [==============================] - 144s 966ms/step - loss: 3.2059 - accuracy: 0.1345 - val_loss: 2.8165 - val_accuracy: 0.2178\n",
      "Epoch 3/40\n",
      "149/149 [==============================] - 139s 928ms/step - loss: 2.9021 - accuracy: 0.1964 - val_loss: 2.5332 - val_accuracy: 0.2932\n",
      "Epoch 4/40\n",
      "149/149 [==============================] - 137s 917ms/step - loss: 2.6346 - accuracy: 0.2623 - val_loss: 2.3595 - val_accuracy: 0.3424\n",
      "Epoch 5/40\n",
      "149/149 [==============================] - 128s 858ms/step - loss: 2.4360 - accuracy: 0.3051 - val_loss: 2.0980 - val_accuracy: 0.4254\n",
      "Epoch 6/40\n",
      "149/149 [==============================] - 134s 899ms/step - loss: 2.2199 - accuracy: 0.3557 - val_loss: 1.8267 - val_accuracy: 0.4619\n",
      "Epoch 7/40\n",
      "149/149 [==============================] - 117s 785ms/step - loss: 2.0026 - accuracy: 0.4166 - val_loss: 1.7695 - val_accuracy: 0.4864\n",
      "Epoch 8/40\n",
      "149/149 [==============================] - 109s 732ms/step - loss: 1.8974 - accuracy: 0.4468 - val_loss: 1.6466 - val_accuracy: 0.5034\n",
      "Epoch 9/40\n",
      "149/149 [==============================] - 110s 741ms/step - loss: 1.7430 - accuracy: 0.4785 - val_loss: 1.5248 - val_accuracy: 0.5593\n",
      "Epoch 10/40\n",
      "149/149 [==============================] - 111s 741ms/step - loss: 1.6808 - accuracy: 0.5016 - val_loss: 1.4567 - val_accuracy: 0.5746\n",
      "Epoch 11/40\n",
      "149/149 [==============================] - 112s 748ms/step - loss: 1.5682 - accuracy: 0.5272 - val_loss: 1.3952 - val_accuracy: 0.5856\n",
      "Epoch 12/40\n",
      "149/149 [==============================] - 109s 731ms/step - loss: 1.4905 - accuracy: 0.5486 - val_loss: 1.2987 - val_accuracy: 0.6203\n",
      "Epoch 13/40\n",
      "149/149 [==============================] - 110s 737ms/step - loss: 1.4002 - accuracy: 0.5736 - val_loss: 1.2392 - val_accuracy: 0.6475\n",
      "Epoch 14/40\n",
      "149/149 [==============================] - 112s 752ms/step - loss: 1.3092 - accuracy: 0.5981 - val_loss: 1.1327 - val_accuracy: 0.6669\n",
      "Epoch 15/40\n",
      "149/149 [==============================] - 111s 744ms/step - loss: 1.2353 - accuracy: 0.6227 - val_loss: 1.2706 - val_accuracy: 0.6034\n",
      "Epoch 16/40\n",
      "149/149 [==============================] - 112s 750ms/step - loss: 1.1787 - accuracy: 0.6342 - val_loss: 1.0809 - val_accuracy: 0.6737\n",
      "Epoch 17/40\n",
      "149/149 [==============================] - 114s 763ms/step - loss: 1.1324 - accuracy: 0.6508 - val_loss: 1.1139 - val_accuracy: 0.6619\n",
      "Epoch 18/40\n",
      "149/149 [==============================] - 116s 775ms/step - loss: 1.1233 - accuracy: 0.6432 - val_loss: 1.0417 - val_accuracy: 0.6831\n",
      "Epoch 19/40\n",
      "149/149 [==============================] - 110s 739ms/step - loss: 1.0480 - accuracy: 0.6678 - val_loss: 1.0330 - val_accuracy: 0.6966\n",
      "Epoch 20/40\n",
      "149/149 [==============================] - 114s 763ms/step - loss: 1.0263 - accuracy: 0.6825 - val_loss: 1.0569 - val_accuracy: 0.6898\n",
      "Epoch 21/40\n",
      "149/149 [==============================] - 112s 749ms/step - loss: 0.9665 - accuracy: 0.6993 - val_loss: 0.9464 - val_accuracy: 0.7356\n",
      "Epoch 22/40\n",
      "149/149 [==============================] - 113s 754ms/step - loss: 0.9447 - accuracy: 0.7093 - val_loss: 0.9027 - val_accuracy: 0.7246\n",
      "Epoch 23/40\n",
      "149/149 [==============================] - 121s 809ms/step - loss: 0.9129 - accuracy: 0.7133 - val_loss: 0.9477 - val_accuracy: 0.6975\n",
      "Epoch 24/40\n",
      "149/149 [==============================] - 112s 749ms/step - loss: 0.8619 - accuracy: 0.7251 - val_loss: 0.9299 - val_accuracy: 0.7373\n",
      "Epoch 25/40\n",
      "149/149 [==============================] - 113s 755ms/step - loss: 0.8309 - accuracy: 0.7379 - val_loss: 0.8834 - val_accuracy: 0.7449\n",
      "Epoch 26/40\n",
      "149/149 [==============================] - 115s 774ms/step - loss: 0.8427 - accuracy: 0.7301 - val_loss: 0.9279 - val_accuracy: 0.7390\n",
      "Epoch 27/40\n",
      "149/149 [==============================] - 110s 740ms/step - loss: 0.8144 - accuracy: 0.7368 - val_loss: 0.9212 - val_accuracy: 0.7347\n",
      "Epoch 28/40\n",
      "149/149 [==============================] - 111s 743ms/step - loss: 0.7509 - accuracy: 0.7652 - val_loss: 0.9575 - val_accuracy: 0.7246\n",
      "Epoch 29/40\n",
      "149/149 [==============================] - 111s 743ms/step - loss: 0.7722 - accuracy: 0.7584 - val_loss: 0.9305 - val_accuracy: 0.7237\n",
      "Epoch 30/40\n",
      "149/149 [==============================] - 113s 756ms/step - loss: 0.7170 - accuracy: 0.7622 - val_loss: 0.9271 - val_accuracy: 0.7288\n",
      "Epoch 31/40\n",
      "149/149 [==============================] - 111s 747ms/step - loss: 0.7429 - accuracy: 0.7666 - val_loss: 0.8498 - val_accuracy: 0.7610\n",
      "Epoch 32/40\n",
      "149/149 [==============================] - 113s 757ms/step - loss: 0.6985 - accuracy: 0.7706 - val_loss: 0.8780 - val_accuracy: 0.7441\n",
      "Epoch 33/40\n",
      "149/149 [==============================] - 113s 757ms/step - loss: 0.7073 - accuracy: 0.7778 - val_loss: 0.7883 - val_accuracy: 0.7754\n",
      "Epoch 34/40\n",
      "149/149 [==============================] - 113s 759ms/step - loss: 0.7085 - accuracy: 0.7727 - val_loss: 0.7840 - val_accuracy: 0.7636\n",
      "Epoch 35/40\n",
      "149/149 [==============================] - 113s 759ms/step - loss: 0.6556 - accuracy: 0.7893 - val_loss: 0.8822 - val_accuracy: 0.7551\n",
      "Epoch 36/40\n",
      "149/149 [==============================] - 113s 761ms/step - loss: 0.6380 - accuracy: 0.7950 - val_loss: 0.8433 - val_accuracy: 0.7458\n",
      "Epoch 37/40\n",
      "149/149 [==============================] - 113s 756ms/step - loss: 0.6194 - accuracy: 0.7962 - val_loss: 0.8262 - val_accuracy: 0.7746\n",
      "Epoch 38/40\n",
      "149/149 [==============================] - 114s 761ms/step - loss: 0.5871 - accuracy: 0.8008 - val_loss: 0.8497 - val_accuracy: 0.7525\n",
      "Epoch 39/40\n",
      "149/149 [==============================] - 111s 747ms/step - loss: 0.5800 - accuracy: 0.8015 - val_loss: 0.7990 - val_accuracy: 0.7890\n",
      "Epoch 40/40\n",
      "149/149 [==============================] - 111s 745ms/step - loss: 0.5763 - accuracy: 0.8122 - val_loss: 0.7957 - val_accuracy: 0.7576\n"
     ]
    }
   ],
   "source": [
    "history = model.fit(\n",
    "    train_generator,\n",
    "    epochs=epochs,\n",
    "    verbose=1,\n",
    "    callbacks=[tensorboard_callback],\n",
    "    validation_data=train_datagen.flow_from_directory(\n",
    "        'D:/SKMODEL/Medicinal plant dataset',\n",
    "        target_size=image_size,\n",
    "        batch_size=batch_size,\n",
    "        class_mode='categorical',\n",
    "        subset='validation'\n",
    "    )\n",
    ")\n"
   ]
  },
  {
   "cell_type": "code",
   "execution_count": 10,
   "metadata": {},
   "outputs": [
    {
     "name": "stderr",
     "output_type": "stream",
     "text": [
      "c:\\Users\\jeeva\\AppData\\Local\\Programs\\Python\\Python311\\Lib\\site-packages\\keras\\src\\engine\\training.py:3103: UserWarning: You are saving your model as an HDF5 file via `model.save()`. This file format is considered legacy. We recommend using instead the native Keras format, e.g. `model.save('my_model.keras')`.\n",
      "  saving_api.save_model(\n"
     ]
    }
   ],
   "source": [
    "model.save('test_sucesss.h5')"
   ]
  }
 ],
 "metadata": {
  "kernelspec": {
   "display_name": ".venv",
   "language": "python",
   "name": "python3"
  },
  "language_info": {
   "codemirror_mode": {
    "name": "ipython",
    "version": 3
   },
   "file_extension": ".py",
   "mimetype": "text/x-python",
   "name": "python",
   "nbconvert_exporter": "python",
   "pygments_lexer": "ipython3",
   "version": "3.11.5"
  },
  "orig_nbformat": 4
 },
 "nbformat": 4,
 "nbformat_minor": 2
}
